{
  "cells": [
    {
      "cell_type": "markdown",
      "metadata": {
        "id": "view-in-github",
        "colab_type": "text"
      },
      "source": [
        "<a href=\"https://colab.research.google.com/github/Taher31/IAAA/blob/Practice_one/NN_MNNIST.ipynb\" target=\"_parent\"><img src=\"https://colab.research.google.com/assets/colab-badge.svg\" alt=\"Open In Colab\"/></a>"
      ]
    },
    {
      "cell_type": "code",
      "execution_count": 45,
      "metadata": {
        "colab": {
          "base_uri": "https://localhost:8080/",
          "height": 35
        },
        "id": "TZRaAsl3JZGd",
        "outputId": "6bb08e58-1432-4f90-92b8-6080940a445d"
      },
      "outputs": [
        {
          "output_type": "execute_result",
          "data": {
            "text/plain": [
              "'from google.colab import files\\nuploaded = files.upload()'"
            ],
            "application/vnd.google.colaboratory.intrinsic+json": {
              "type": "string"
            }
          },
          "metadata": {},
          "execution_count": 45
        }
      ],
      "source": [
        "\"\"\"from google.colab import files\n",
        "uploaded = files.upload()\"\"\""
      ]
    },
    {
      "cell_type": "code",
      "execution_count": 46,
      "metadata": {
        "id": "5PWGKqENNSq2"
      },
      "outputs": [],
      "source": [
        "import torch\n",
        "import torch.nn as nn\n",
        "from torch.utils.data import DataLoader"
      ]
    },
    {
      "cell_type": "code",
      "execution_count": 47,
      "metadata": {
        "id": "u1_8SPpkNqav"
      },
      "outputs": [],
      "source": [
        "from torchvision import datasets\n",
        "from torchvision.transforms import ToTensor"
      ]
    },
    {
      "cell_type": "code",
      "source": [
        "device = torch.device('cuda')"
      ],
      "metadata": {
        "id": "cUhGWdUJvf83"
      },
      "execution_count": 48,
      "outputs": []
    },
    {
      "cell_type": "markdown",
      "source": [
        "download data and transforn to torch tensor"
      ],
      "metadata": {
        "id": "xR5pIXE2IV21"
      }
    },
    {
      "cell_type": "code",
      "source": [
        "trainData = datasets.MNIST(\"./\",train=True, download=True,transform=ToTensor())\n",
        "testData = datasets.MNIST(\"./\",train=False, download=True,transform=ToTensor())"
      ],
      "metadata": {
        "id": "jZ9z79a-PGuf"
      },
      "execution_count": 49,
      "outputs": []
    },
    {
      "cell_type": "code",
      "source": [
        "type(testData)"
      ],
      "metadata": {
        "colab": {
          "base_uri": "https://localhost:8080/",
          "height": 203
        },
        "id": "G0tcjjtOIAxt",
        "outputId": "79675313-ebb0-4371-a0b7-daa84d5b0ea8"
      },
      "execution_count": 50,
      "outputs": [
        {
          "output_type": "execute_result",
          "data": {
            "text/plain": [
              "torchvision.datasets.mnist.MNIST"
            ],
            "text/html": [
              "<div style=\"max-width:800px; border: 1px solid var(--colab-border-color);\"><style>\n",
              "      pre.function-repr-contents {\n",
              "        overflow-x: auto;\n",
              "        padding: 8px 12px;\n",
              "        max-height: 500px;\n",
              "      }\n",
              "\n",
              "      pre.function-repr-contents.function-repr-contents-collapsed {\n",
              "        cursor: pointer;\n",
              "        max-height: 100px;\n",
              "      }\n",
              "    </style>\n",
              "    <pre style=\"white-space: initial; background:\n",
              "         var(--colab-secondary-surface-color); padding: 8px 12px;\n",
              "         border-bottom: 1px solid var(--colab-border-color);\"><b>torchvision.datasets.mnist.MNIST</b><br/>def __init__(root: str, train: bool=True, transform: Optional[Callable]=None, target_transform: Optional[Callable]=None, download: bool=False) -&gt; None</pre><pre class=\"function-repr-contents function-repr-contents-collapsed\" style=\"\"><a class=\"filepath\" style=\"display:none\" href=\"#\">/usr/local/lib/python3.10/dist-packages/torchvision/datasets/mnist.py</a>`MNIST &lt;http://yann.lecun.com/exdb/mnist/&gt;`_ Dataset.\n",
              "\n",
              "Args:\n",
              "    root (string): Root directory of dataset where ``MNIST/raw/train-images-idx3-ubyte``\n",
              "        and  ``MNIST/raw/t10k-images-idx3-ubyte`` exist.\n",
              "    train (bool, optional): If True, creates dataset from ``train-images-idx3-ubyte``,\n",
              "        otherwise from ``t10k-images-idx3-ubyte``.\n",
              "    download (bool, optional): If True, downloads the dataset from the internet and\n",
              "        puts it in root directory. If dataset is already downloaded, it is not\n",
              "        downloaded again.\n",
              "    transform (callable, optional): A function/transform that  takes in an PIL image\n",
              "        and returns a transformed version. E.g, ``transforms.RandomCrop``\n",
              "    target_transform (callable, optional): A function/transform that takes in the\n",
              "        target and transforms it.</pre>\n",
              "      <script>\n",
              "      if (google.colab.kernel.accessAllowed && google.colab.files && google.colab.files.view) {\n",
              "        for (const element of document.querySelectorAll('.filepath')) {\n",
              "          element.style.display = 'block'\n",
              "          element.onclick = (event) => {\n",
              "            event.preventDefault();\n",
              "            event.stopPropagation();\n",
              "            google.colab.files.view(element.textContent, 19);\n",
              "          };\n",
              "        }\n",
              "      }\n",
              "      for (const element of document.querySelectorAll('.function-repr-contents')) {\n",
              "        element.onclick = (event) => {\n",
              "          event.preventDefault();\n",
              "          event.stopPropagation();\n",
              "          element.classList.toggle('function-repr-contents-collapsed');\n",
              "        };\n",
              "      }\n",
              "      </script>\n",
              "      </div>"
            ]
          },
          "metadata": {},
          "execution_count": 50
        }
      ]
    },
    {
      "cell_type": "code",
      "source": [
        "trainLoader = DataLoader(dataset=trainData,batch_size = 32, shuffle = True)\n",
        "testLoader = DataLoader(dataset=testData,batch_size = 32, shuffle = False)"
      ],
      "metadata": {
        "id": "McBIR8_OQjJL"
      },
      "execution_count": 51,
      "outputs": []
    },
    {
      "cell_type": "code",
      "source": [
        "import matplotlib.pyplot as plt\n",
        "import numpy as np\n",
        "import pandas as pd"
      ],
      "metadata": {
        "id": "CI4-kVEnTqxu"
      },
      "execution_count": 52,
      "outputs": []
    },
    {
      "cell_type": "code",
      "source": [
        "\"\"\"for image , target in trainLoader :\n",
        "    print(image.size())\"\"\""
      ],
      "metadata": {
        "colab": {
          "base_uri": "https://localhost:8080/",
          "height": 35
        },
        "id": "DJyd6mkqKEWw",
        "outputId": "5a562bd5-24b8-4a00-bfea-02cdb0ebbebb"
      },
      "execution_count": 53,
      "outputs": [
        {
          "output_type": "execute_result",
          "data": {
            "text/plain": [
              "'for image , target in trainLoader :\\n    print(image.size())'"
            ],
            "application/vnd.google.colaboratory.intrinsic+json": {
              "type": "string"
            }
          },
          "metadata": {},
          "execution_count": 53
        }
      ]
    },
    {
      "cell_type": "code",
      "source": [
        "plt.imshow(image[9,0,:,:])"
      ],
      "metadata": {
        "id": "Ya3Tr-3cT3Do"
      },
      "execution_count": null,
      "outputs": []
    },
    {
      "cell_type": "code",
      "source": [
        "class SimpleNN(nn.Module):\n",
        "  def __init__(self):\n",
        "    super().__init__()\n",
        "    self.layers = nn.Sequential(\n",
        "      nn.Flatten(),\n",
        "      nn.Linear(28*28, 20),\n",
        "      nn.ReLU(),\n",
        "      nn.Linear(20, 20),\n",
        "      nn.ReLU(),\n",
        "      nn.Linear(20, 20),\n",
        "      nn.ReLU(),\n",
        "      nn.Linear(20,10)\n",
        "    )\n",
        "\n",
        "  def forward(self,x):\n",
        "    return self.layers(x)"
      ],
      "metadata": {
        "id": "QPUdF0jNUopf"
      },
      "execution_count": 55,
      "outputs": []
    },
    {
      "cell_type": "code",
      "source": [],
      "metadata": {
        "id": "_Ns9GRJtsttN"
      },
      "execution_count": 55,
      "outputs": []
    },
    {
      "cell_type": "markdown",
      "source": [
        "### Training"
      ],
      "metadata": {
        "id": "Y4gBpKHMZioO"
      }
    },
    {
      "cell_type": "code",
      "source": [
        "from torch.optim.lr_scheduler import StepLR\n",
        "\n",
        "#  scheduler = StepLR(optimizer,step_size= 200, gamma= 0.9)"
      ],
      "metadata": {
        "id": "Cd_Tn3LoZYdg"
      },
      "execution_count": 56,
      "outputs": []
    },
    {
      "cell_type": "code",
      "source": [
        "def train(data_loader,model,Loss,optimizer):\n",
        "  num_batch = len(data_loader)\n",
        "  total_loss = 0\n",
        "  for images,targets in data_loader:\n",
        "      images = images.to(device)\n",
        "      targets = targets.to(device)\n",
        "      output = model(images)\n",
        "      L = Loss(output,targets)\n",
        "      total_loss += L\n",
        "      L.backward()\n",
        "      optimizer.step()\n",
        "      optimizer.zero_grad()\n",
        "\n",
        "  total_loss = total_loss/num_batch\n",
        "  print(f'Average Loss: {total_loss}')"
      ],
      "metadata": {
        "id": "LLh2AX6caLM3"
      },
      "execution_count": 57,
      "outputs": []
    },
    {
      "cell_type": "code",
      "source": [
        "def correct (output,target):\n",
        "  prediction = output.argmax(1)\n",
        "  return (prediction == target).type(torch.float).sum()\n"
      ],
      "metadata": {
        "id": "9oo85OPuo9yi"
      },
      "execution_count": 58,
      "outputs": []
    },
    {
      "cell_type": "code",
      "source": [
        "def test(test_loader, model,Loss):\n",
        "  num_batch = len(test_loader)\n",
        "  num_images = len(test_loader.dataset)\n",
        "\n",
        "  total_loss = 0\n",
        "  total_correct = 0\n",
        "  for images,targets in test_loader:\n",
        "      images = images.to(device)\n",
        "      targets = targets.to(device)\n",
        "      output = model(images)\n",
        "      L = Loss(output,targets)\n",
        "      total_loss += L\n",
        "      total_correct += correct(output,targets)\n",
        "\n",
        "  total_loss = total_loss/num_batch\n",
        "  accuracy = total_correct/ num_images\n",
        "\n",
        "  print(f'Totall Correct: {total_correct}')\n",
        "  print(f'Average Loss: {total_loss}')\n",
        "  print(f'Accuracy: {accuracy}')"
      ],
      "metadata": {
        "id": "TZ0TzQlmppcq"
      },
      "execution_count": 59,
      "outputs": []
    },
    {
      "cell_type": "code",
      "source": [
        "model = SimpleNN().to(device)\n",
        "Loss = nn.CrossEntropyLoss()\n",
        "optimizer = torch.optim.SGD(model.parameters(),lr =0.01,momentum=0.5)\n",
        "\n",
        "epochs = 10\n",
        "for epoch in range(epochs):\n",
        "  print(\"training epoch = \",epoch)\n",
        "  train(trainLoader,model,Loss,optimizer)\n",
        "  print('train accuracy:')\n",
        "  test(trainLoader,model,Loss)\n",
        "  print('test accuracy:')\n",
        "  test(testLoader,model,Loss)\n"
      ],
      "metadata": {
        "colab": {
          "base_uri": "https://localhost:8080/"
        },
        "id": "Jky9Xw1Gq6i5",
        "outputId": "965d00a6-70a2-4df6-8112-1b1786145f5c"
      },
      "execution_count": 60,
      "outputs": [
        {
          "output_type": "stream",
          "name": "stdout",
          "text": [
            "training epoch =  0\n",
            "Average Loss: 1.220856785774231\n",
            "train accuracy:\n",
            "Totall Correct: 52158.0\n",
            "Average Loss: 0.44857919216156006\n",
            "Accuracy: 0.8693000078201294\n",
            "test accuracy:\n",
            "Totall Correct: 8663.0\n",
            "Average Loss: 0.44678887724876404\n",
            "Accuracy: 0.8662999868392944\n",
            "training epoch =  1\n",
            "Average Loss: 0.3703003227710724\n",
            "train accuracy:\n",
            "Totall Correct: 54888.0\n",
            "Average Loss: 0.29563137888908386\n",
            "Accuracy: 0.9147999882698059\n",
            "test accuracy:\n",
            "Totall Correct: 9116.0\n",
            "Average Loss: 0.2942989766597748\n",
            "Accuracy: 0.9115999937057495\n",
            "training epoch =  2\n",
            "Average Loss: 0.2856232523918152\n",
            "train accuracy:\n",
            "Totall Correct: 55764.0\n",
            "Average Loss: 0.24732379615306854\n",
            "Accuracy: 0.9294000267982483\n",
            "test accuracy:\n",
            "Totall Correct: 9271.0\n",
            "Average Loss: 0.2528085708618164\n",
            "Accuracy: 0.9271000027656555\n",
            "training epoch =  3\n",
            "Average Loss: 0.24334993958473206\n",
            "train accuracy:\n",
            "Totall Correct: 56194.0\n",
            "Average Loss: 0.22091950476169586\n",
            "Accuracy: 0.9365666508674622\n",
            "test accuracy:\n",
            "Totall Correct: 9331.0\n",
            "Average Loss: 0.22792452573776245\n",
            "Accuracy: 0.9330999851226807\n",
            "training epoch =  4\n",
            "Average Loss: 0.21190145611763\n",
            "train accuracy:\n",
            "Totall Correct: 56619.0\n",
            "Average Loss: 0.18961498141288757\n",
            "Accuracy: 0.9436500072479248\n",
            "test accuracy:\n",
            "Totall Correct: 9380.0\n",
            "Average Loss: 0.2032960057258606\n",
            "Accuracy: 0.937999963760376\n",
            "training epoch =  5\n",
            "Average Loss: 0.18828478455543518\n",
            "train accuracy:\n",
            "Totall Correct: 57016.0\n",
            "Average Loss: 0.16955804824829102\n",
            "Accuracy: 0.9502666592597961\n",
            "test accuracy:\n",
            "Totall Correct: 9449.0\n",
            "Average Loss: 0.1835976392030716\n",
            "Accuracy: 0.9448999762535095\n",
            "training epoch =  6\n",
            "Average Loss: 0.16916990280151367\n",
            "train accuracy:\n",
            "Totall Correct: 57192.0\n",
            "Average Loss: 0.16044607758522034\n",
            "Accuracy: 0.9531999826431274\n",
            "test accuracy:\n",
            "Totall Correct: 9474.0\n",
            "Average Loss: 0.17994146049022675\n",
            "Accuracy: 0.9473999738693237\n",
            "training epoch =  7\n",
            "Average Loss: 0.15541325509548187\n",
            "train accuracy:\n",
            "Totall Correct: 57449.0\n",
            "Average Loss: 0.14604972302913666\n",
            "Accuracy: 0.9574833512306213\n",
            "test accuracy:\n",
            "Totall Correct: 9515.0\n",
            "Average Loss: 0.16225263476371765\n",
            "Accuracy: 0.9514999985694885\n",
            "training epoch =  8\n",
            "Average Loss: 0.14624282717704773\n",
            "train accuracy:\n",
            "Totall Correct: 57701.0\n",
            "Average Loss: 0.12866029143333435\n",
            "Accuracy: 0.9616833329200745\n",
            "test accuracy:\n",
            "Totall Correct: 9525.0\n",
            "Average Loss: 0.153618723154068\n",
            "Accuracy: 0.9524999856948853\n",
            "training epoch =  9\n",
            "Average Loss: 0.1368074268102646\n",
            "train accuracy:\n",
            "Totall Correct: 57806.0\n",
            "Average Loss: 0.12302783131599426\n",
            "Accuracy: 0.9634333252906799\n",
            "test accuracy:\n",
            "Totall Correct: 9560.0\n",
            "Average Loss: 0.1511668860912323\n",
            "Accuracy: 0.9559999704360962\n"
          ]
        }
      ]
    }
  ],
  "metadata": {
    "colab": {
      "provenance": [],
      "gpuType": "T4",
      "include_colab_link": true
    },
    "kernelspec": {
      "display_name": "Python 3",
      "name": "python3"
    },
    "language_info": {
      "name": "python"
    },
    "accelerator": "GPU"
  },
  "nbformat": 4,
  "nbformat_minor": 0
}